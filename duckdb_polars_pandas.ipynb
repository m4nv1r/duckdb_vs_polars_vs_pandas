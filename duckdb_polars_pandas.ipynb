{
 "cells": [
  {
   "cell_type": "markdown",
   "id": "77987712-8da0-4bcd-ace5-62a5680fec74",
   "metadata": {},
   "source": [
    "# Comparing DuckDB, Polars, and Pandas"
   ]
  },
  {
   "cell_type": "markdown",
   "id": "ff206d70-c503-4737-b5bd-dd1630d25346",
   "metadata": {},
   "source": [
    "I am going to use duckdb, polars and pandas to do some analysis on some csv files and I am going to compare the performance."
   ]
  },
  {
   "cell_type": "code",
   "execution_count": 1,
   "id": "1153f4b8-63b9-40ab-b249-902fd5cb1b9c",
   "metadata": {},
   "outputs": [],
   "source": [
    "# first we are going to import the python libraries\n",
    "\n",
    "import pandas as pd\n",
    "import polars as pl\n",
    "import duckdb"
   ]
  },
  {
   "cell_type": "markdown",
   "id": "d07a6b78-556e-4d7c-b406-8dd2872eb689",
   "metadata": {},
   "source": [
    "## Car Price Dataset"
   ]
  },
  {
   "cell_type": "markdown",
   "id": "cd01d597-43bb-460b-ab82-4f50f57942d1",
   "metadata": {},
   "source": [
    "The first csv file that I am going to use for benchmarking purposes can be found here: https://www.kaggle.com/datasets/asinow/car-price-dataset\n",
    "\n",
    "I am specifically going to try to find the second most expensive model for each brand for every year."
   ]
  },
  {
   "cell_type": "code",
   "execution_count": 2,
   "id": "71f85729-ae99-42bc-bb40-7bddb5f15051",
   "metadata": {},
   "outputs": [],
   "source": [
    "def pandas_car_price_func():\n",
    "    df = pd.read_csv('car_price_dataset.csv')\n",
    "    out = df.sort_values('Price', ascending=False).groupby(['Brand','Year'], as_index=False).nth(2) [[\"Brand\", \"Model\", \"Year\", \"Price\"]]"
   ]
  },
  {
   "cell_type": "code",
   "execution_count": 7,
   "id": "eaa63a25-5300-4a11-9e2e-9d69d94c1839",
   "metadata": {},
   "outputs": [
    {
     "name": "stdout",
     "output_type": "stream",
     "text": [
      "25.2 ms ± 0 ns per loop (mean ± std. dev. of 1 run, 1 loop each)\n"
     ]
    }
   ],
   "source": [
    "%%timeit -n1 -r1\n",
    "pandas_car_price_func()"
   ]
  },
  {
   "cell_type": "code",
   "execution_count": 8,
   "id": "3140d619-1b56-4b7e-8427-9d324796e46d",
   "metadata": {},
   "outputs": [],
   "source": [
    "def polars_car_price_func():\n",
    "    df = pl.read_csv('car_price_dataset.csv')\n",
    "    df = df.select('Brand', 'Model', 'Year', 'Price', pl.col('Price').rank('ordinal', descending=True).over('Brand','Year').alias('price_rank'))\n",
    "    df = df.filter(pl.col(\"price_rank\") == 2).select('Brand', 'Model', 'Year', 'Price')"
   ]
  },
  {
   "cell_type": "code",
   "execution_count": 9,
   "id": "4388476c-888e-4c80-8870-fc3cfa36a7f9",
   "metadata": {},
   "outputs": [
    {
     "name": "stdout",
     "output_type": "stream",
     "text": [
      "6.66 ms ± 0 ns per loop (mean ± std. dev. of 1 run, 1 loop each)\n"
     ]
    }
   ],
   "source": [
    "%%timeit -n1 -r1\n",
    "polars_car_price_func()"
   ]
  },
  {
   "cell_type": "code",
   "execution_count": 10,
   "id": "165e1bdc-6a2e-4cae-b2a7-7a57b1a87516",
   "metadata": {},
   "outputs": [],
   "source": [
    "def duckdb_car_price_func():\n",
    "    duckdb.read_csv(\"car_price_dataset.csv\")\n",
    "    duckdb.sql('''\n",
    "    with temp_data as (\n",
    "        SELECT\n",
    "            Brand,\n",
    "            Model,\n",
    "            Year,\n",
    "            Price,\n",
    "            row_number() over (partition by Brand, Year order by Price desc) as rn\n",
    "        FROM 'car_price_dataset.csv'\n",
    "    )\n",
    "    SELECT\n",
    "        Brand,\n",
    "        Model,\n",
    "        Year,\n",
    "        Price\n",
    "    FROM temp_data\n",
    "    WHERE rn = 2\n",
    "    ''')\n",
    "    "
   ]
  },
  {
   "cell_type": "code",
   "execution_count": 11,
   "id": "ee623f2c-ca3f-42a6-b481-68c1cf71e57c",
   "metadata": {},
   "outputs": [
    {
     "name": "stdout",
     "output_type": "stream",
     "text": [
      "74 ms ± 0 ns per loop (mean ± std. dev. of 1 run, 1 loop each)\n"
     ]
    }
   ],
   "source": [
    "%%timeit -n1 -r1\n",
    "duckdb_car_price_func()"
   ]
  },
  {
   "cell_type": "markdown",
   "id": "a5d70c0e-8224-45df-a428-d6a5df5d8fca",
   "metadata": {},
   "source": [
    "DuckDB gives the worst results and polars gives the best for this dataset"
   ]
  },
  {
   "cell_type": "markdown",
   "id": "0216834a-44aa-4380-b151-014722c881fa",
   "metadata": {},
   "source": [
    "Now we are going to look at the synthetic fraud dataset and we are going to find the second most used device for fraud by country. the dataset can be found here: https://www.kaggle.com/datasets/samayashar/fraud-detection-transactions-dataset"
   ]
  },
  {
   "cell_type": "code",
   "execution_count": null,
   "id": "abc7ba67-8be3-448a-83fc-d8499f0125f2",
   "metadata": {},
   "outputs": [],
   "source": []
  }
 ],
 "metadata": {
  "kernelspec": {
   "display_name": "Python 3 (ipykernel)",
   "language": "python",
   "name": "python3"
  },
  "language_info": {
   "codemirror_mode": {
    "name": "ipython",
    "version": 3
   },
   "file_extension": ".py",
   "mimetype": "text/x-python",
   "name": "python",
   "nbconvert_exporter": "python",
   "pygments_lexer": "ipython3",
   "version": "3.12.4"
  }
 },
 "nbformat": 4,
 "nbformat_minor": 5
}
