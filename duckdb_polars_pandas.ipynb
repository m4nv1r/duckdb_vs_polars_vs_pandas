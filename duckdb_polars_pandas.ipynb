{
 "cells": [
  {
   "cell_type": "markdown",
   "id": "77987712-8da0-4bcd-ace5-62a5680fec74",
   "metadata": {},
   "source": [
    "# Comparing DuckDB, Polars, and Pandas"
   ]
  },
  {
   "cell_type": "markdown",
   "id": "ff206d70-c503-4737-b5bd-dd1630d25346",
   "metadata": {},
   "source": [
    "I am going to use duckdb, polars and pandas to do some analysis on some csv files and I am going to compare the performance."
   ]
  },
  {
   "cell_type": "code",
   "execution_count": 1,
   "id": "1153f4b8-63b9-40ab-b249-902fd5cb1b9c",
   "metadata": {},
   "outputs": [],
   "source": [
    "# first we are going to import the python libraries\n",
    "\n",
    "import pandas as pd\n",
    "import polars as pl\n",
    "import duckdb\n",
    "import time"
   ]
  },
  {
   "cell_type": "markdown",
   "id": "d07a6b78-556e-4d7c-b406-8dd2872eb689",
   "metadata": {},
   "source": [
    "## Car Price Dataset"
   ]
  },
  {
   "cell_type": "markdown",
   "id": "cd01d597-43bb-460b-ab82-4f50f57942d1",
   "metadata": {},
   "source": [
    "The first csv file that I am going to use for benchmarking purposes can be found here: https://www.kaggle.com/datasets/asinow/car-price-dataset\n",
    "\n",
    "I am specifically going to try to find the second most expensive model for each brand for every year."
   ]
  },
  {
   "cell_type": "code",
   "execution_count": 23,
   "id": "c1adc5d3-159b-4c0c-bca6-c80bffb9eaf1",
   "metadata": {},
   "outputs": [
    {
     "name": "stdout",
     "output_type": "stream",
     "text": [
      "(10000, 10)\n"
     ]
    }
   ],
   "source": [
    "df = pd.read_csv('car_price_dataset.csv')\n",
    "print(df.shape)"
   ]
  },
  {
   "cell_type": "markdown",
   "id": "253c857c-f2d5-493d-aef8-ebe4a1bb7731",
   "metadata": {},
   "source": [
    "This dataset has 10k rows"
   ]
  },
  {
   "cell_type": "code",
   "execution_count": 8,
   "id": "71f85729-ae99-42bc-bb40-7bddb5f15051",
   "metadata": {},
   "outputs": [],
   "source": [
    "def pandas_car_price_func():\n",
    "    df = pd.read_csv('car_price_dataset.csv')\n",
    "    out = df.sort_values('Price', ascending=False).groupby(['Brand','Year'], as_index=False).nth(2) [[\"Brand\", \"Model\", \"Year\", \"Price\"]]\n",
    "    out.to_csv('car_price_pandas.csv')"
   ]
  },
  {
   "cell_type": "code",
   "execution_count": 9,
   "id": "eaa63a25-5300-4a11-9e2e-9d69d94c1839",
   "metadata": {},
   "outputs": [
    {
     "name": "stdout",
     "output_type": "stream",
     "text": [
      "19.5 ms ± 1.19 ms per loop (mean ± std. dev. of 5 runs, 10 loops each)\n"
     ]
    }
   ],
   "source": [
    "%%timeit -n10 -r5\n",
    "pandas_car_price_func()"
   ]
  },
  {
   "cell_type": "code",
   "execution_count": 10,
   "id": "3140d619-1b56-4b7e-8427-9d324796e46d",
   "metadata": {},
   "outputs": [],
   "source": [
    "def polars_car_price_func():\n",
    "    df = pl.read_csv('car_price_dataset.csv')\n",
    "    df = df.select('Brand', 'Model', 'Year', 'Price', pl.col('Price').rank('ordinal', descending=True).over('Brand','Year').alias('price_rank'))\n",
    "    df = df.filter(pl.col(\"price_rank\") == 2).select('Brand', 'Model', 'Year', 'Price')\n",
    "    df.write_csv('car_price_polars.csv')"
   ]
  },
  {
   "cell_type": "code",
   "execution_count": 11,
   "id": "4388476c-888e-4c80-8870-fc3cfa36a7f9",
   "metadata": {},
   "outputs": [
    {
     "name": "stdout",
     "output_type": "stream",
     "text": [
      "5.73 ms ± 831 μs per loop (mean ± std. dev. of 5 runs, 10 loops each)\n"
     ]
    }
   ],
   "source": [
    "%%timeit -n10 -r5\n",
    "polars_car_price_func()"
   ]
  },
  {
   "cell_type": "code",
   "execution_count": 12,
   "id": "165e1bdc-6a2e-4cae-b2a7-7a57b1a87516",
   "metadata": {},
   "outputs": [],
   "source": [
    "def duckdb_car_price_func():\n",
    "    duckdb.read_csv(\"car_price_dataset.csv\")\n",
    "    duckdb.sql('''\n",
    "    with temp_data as (\n",
    "        SELECT\n",
    "            Brand,\n",
    "            Model,\n",
    "            Year,\n",
    "            Price,\n",
    "            row_number() over (partition by Brand, Year order by Price desc) as rn\n",
    "        FROM 'car_price_dataset.csv'\n",
    "    )\n",
    "    SELECT\n",
    "        Brand,\n",
    "        Model,\n",
    "        Year,\n",
    "        Price\n",
    "    FROM temp_data\n",
    "    WHERE rn = 2\n",
    "    ''').to_csv('car_price_duckdb.csv')\n",
    "    "
   ]
  },
  {
   "cell_type": "code",
   "execution_count": 13,
   "id": "ee623f2c-ca3f-42a6-b481-68c1cf71e57c",
   "metadata": {},
   "outputs": [
    {
     "name": "stdout",
     "output_type": "stream",
     "text": [
      "142 ms ± 4.35 ms per loop (mean ± std. dev. of 5 runs, 10 loops each)\n"
     ]
    }
   ],
   "source": [
    "%%timeit -n10 -r5\n",
    "duckdb_car_price_func()"
   ]
  },
  {
   "cell_type": "markdown",
   "id": "a5d70c0e-8224-45df-a428-d6a5df5d8fca",
   "metadata": {},
   "source": [
    "DuckDB gives the worst results and polars gives the best for this dataset"
   ]
  },
  {
   "cell_type": "markdown",
   "id": "9edae340-bd29-4cbc-830f-ace3f5d13a58",
   "metadata": {},
   "source": [
    "## Spotify Dataset"
   ]
  },
  {
   "cell_type": "markdown",
   "id": "7c9452eb-fc79-4d8d-a009-4caffa48754e",
   "metadata": {},
   "source": [
    "Let's use a larger dataset for comparison this time. This time we are going to use the spotify dataset that can be found here: https://www.kaggle.com/datasets/anandshaw2001/top-spotify-songs-in-73-countries"
   ]
  },
  {
   "cell_type": "markdown",
   "id": "43ce5239-837f-441f-971a-46739b7ae46e",
   "metadata": {},
   "source": [
    "We are specifically going to look for the 3rd most popular song per country"
   ]
  },
  {
   "cell_type": "code",
   "execution_count": 24,
   "id": "0e0518bf-7c4f-4356-8214-e9caa7a1f455",
   "metadata": {},
   "outputs": [
    {
     "name": "stdout",
     "output_type": "stream",
     "text": [
      "(1728382, 25)\n"
     ]
    }
   ],
   "source": [
    "df = pd.read_csv('Top_spotify_songs.csv')\n",
    "print(df.shape)"
   ]
  },
  {
   "cell_type": "markdown",
   "id": "4c8767f2-1969-4bca-8800-b5cfbe934c35",
   "metadata": {},
   "source": [
    "This dataset has 1.7m rows"
   ]
  },
  {
   "cell_type": "code",
   "execution_count": 14,
   "id": "6db66115-385f-465a-9486-547542e75714",
   "metadata": {},
   "outputs": [],
   "source": [
    "def pandas_spotify_func():\n",
    "    df = pd.read_csv('Top_spotify_songs.csv')\n",
    "    out = df.sort_values('popularity', ascending=False).groupby('country', as_index=False).nth(3) [[\"name\", \"artists\", \"country\", \"popularity\"]]\n",
    "    out.to_csv('spotify_pandas.csv')"
   ]
  },
  {
   "cell_type": "code",
   "execution_count": 15,
   "id": "aa32f31d-6c38-4bb4-9910-2bbef6758406",
   "metadata": {},
   "outputs": [
    {
     "name": "stdout",
     "output_type": "stream",
     "text": [
      "7.37 s ± 0 ns per loop (mean ± std. dev. of 1 run, 10 loops each)\n"
     ]
    }
   ],
   "source": [
    "%%timeit -n10 -r1\n",
    "pandas_spotify_func()"
   ]
  },
  {
   "cell_type": "code",
   "execution_count": 16,
   "id": "e9b019ad-6a21-48d4-a637-41d64becd016",
   "metadata": {},
   "outputs": [],
   "source": [
    "def polars_spotify_func():\n",
    "    df = pl.read_csv('Top_spotify_songs.csv')\n",
    "    df = df.select('name', 'artists', 'country', 'popularity', pl.col('popularity').rank('ordinal', descending=True).over('country').alias('popularity_rank'))\n",
    "    df = df.filter(pl.col(\"popularity_rank\") == 3).select('name', 'artists', 'country', 'popularity')\n",
    "    df.write_csv('spotify_polars.csv')"
   ]
  },
  {
   "cell_type": "code",
   "execution_count": 17,
   "id": "70ae156f-c975-48bc-93e7-ce98b33c39bd",
   "metadata": {},
   "outputs": [
    {
     "name": "stdout",
     "output_type": "stream",
     "text": [
      "784 ms ± 0 ns per loop (mean ± std. dev. of 1 run, 10 loops each)\n"
     ]
    }
   ],
   "source": [
    "%%timeit -n10 -r1\n",
    "polars_spotify_func()"
   ]
  },
  {
   "cell_type": "code",
   "execution_count": 18,
   "id": "6d2846ec-2204-4021-8c71-5ca4470883a2",
   "metadata": {},
   "outputs": [],
   "source": [
    "def duckdb_spotify_func():\n",
    "    duckdb.read_csv(\"Top_spotify_songs.csv\")\n",
    "    duckdb.sql('''\n",
    "    with temp_data as (\n",
    "        SELECT\n",
    "            name,\n",
    "            artists,\n",
    "            country,\n",
    "            popularity,\n",
    "            row_number() over (partition by country order by popularity desc) as rn\n",
    "        FROM 'Top_spotify_songs.csv'\n",
    "    )\n",
    "    SELECT\n",
    "        name,\n",
    "        artists,\n",
    "        country,\n",
    "        popularity\n",
    "    FROM temp_data\n",
    "    WHERE rn = 3\n",
    "    ''').to_csv('spotify_duckdb.csv')"
   ]
  },
  {
   "cell_type": "code",
   "execution_count": 19,
   "id": "dad25ffe-1516-4912-8641-e36c4b1c68bb",
   "metadata": {},
   "outputs": [
    {
     "name": "stdout",
     "output_type": "stream",
     "text": [
      "1.64 s ± 0 ns per loop (mean ± std. dev. of 1 run, 10 loops each)\n"
     ]
    }
   ],
   "source": [
    "%%timeit -n10 -r1\n",
    "duckdb_spotify_func()"
   ]
  },
  {
   "cell_type": "markdown",
   "id": "bce693c7-3398-4f98-b027-8984c1665554",
   "metadata": {},
   "source": [
    "Using Polars results in the fastest execution time but this time using DuckDB is better than using Pandas"
   ]
  },
  {
   "cell_type": "markdown",
   "id": "cdde3b55-12fc-4b45-a5b9-9bccc820b3dd",
   "metadata": {},
   "source": [
    "## Amazon Dataset"
   ]
  },
  {
   "cell_type": "markdown",
   "id": "02042986-ca7e-4e82-a4c3-9417d2cc84e5",
   "metadata": {},
   "source": [
    "This time we are going to use the book review file from the following link: https://www.kaggle.com/datasets/mohamedbakhet/amazon-books-reviews?select=Books_rating.csv"
   ]
  },
  {
   "cell_type": "code",
   "execution_count": 25,
   "id": "0e1b0566-537c-4063-9be6-b24fa69af4fe",
   "metadata": {},
   "outputs": [
    {
     "name": "stdout",
     "output_type": "stream",
     "text": [
      "(3000000, 10)\n"
     ]
    }
   ],
   "source": [
    "df = pd.read_csv('Books_rating.csv')\n",
    "print(df.shape)"
   ]
  },
  {
   "cell_type": "code",
   "execution_count": 26,
   "id": "d71a01bc-276f-4cfc-a4d4-0c7faca0ad15",
   "metadata": {},
   "outputs": [
    {
     "data": {
      "text/plain": [
       "Index(['Id', 'Title', 'Price', 'User_id', 'profileName', 'review/helpfulness',\n",
       "       'review/score', 'review/time', 'review/summary', 'review/text'],\n",
       "      dtype='object')"
      ]
     },
     "execution_count": 26,
     "metadata": {},
     "output_type": "execute_result"
    }
   ],
   "source": [
    "df.columns"
   ]
  },
  {
   "cell_type": "code",
   "execution_count": 31,
   "id": "24440c82-5bdc-4410-9f1c-225079903882",
   "metadata": {},
   "outputs": [],
   "source": [
    "def pandas_amazon_func():\n",
    "    df = pd.read_csv('Books_rating.csv')\n",
    "    out = df.sort_values('review/score', ascending=False).groupby('User_id', as_index=False).nth(1) [[\"Title\", \"review/score\", \"User_id\"]]\n",
    "    out.to_csv('book_data_pandas.csv')"
   ]
  },
  {
   "cell_type": "code",
   "execution_count": 37,
   "id": "cc5cb936-aa9b-47c1-95b2-4eaac98d0f4b",
   "metadata": {},
   "outputs": [
    {
     "name": "stdout",
     "output_type": "stream",
     "text": [
      "45.2 s ± 0 ns per loop (mean ± std. dev. of 1 run, 5 loops each)\n"
     ]
    }
   ],
   "source": [
    "%%timeit -n5 -r1\n",
    "pandas_amazon_func()"
   ]
  },
  {
   "cell_type": "code",
   "execution_count": 38,
   "id": "3d18ada7-90ae-448e-b9f6-b3e34ff01123",
   "metadata": {},
   "outputs": [],
   "source": [
    "def polars_amazon_func():\n",
    "    df = pl.read_csv('Books_rating.csv')\n",
    "    df = df.select('Title', 'review/score', 'User_id', pl.col('review/score').rank('ordinal', descending=True).over('User_id').alias('score_rank'))\n",
    "    df = df.filter(pl.col(\"score_rank\") == 1).select('Title', 'review/score', 'User_id')\n",
    "    df.write_csv('book_data_polars.csv')"
   ]
  },
  {
   "cell_type": "code",
   "execution_count": 39,
   "id": "f99d8a47-464b-49bf-a853-3aca61789db2",
   "metadata": {},
   "outputs": [
    {
     "name": "stdout",
     "output_type": "stream",
     "text": [
      "5 s ± 0 ns per loop (mean ± std. dev. of 1 run, 5 loops each)\n"
     ]
    }
   ],
   "source": [
    "%%timeit -n5 -r1\n",
    "polars_amazon_func()"
   ]
  },
  {
   "cell_type": "code",
   "execution_count": 42,
   "id": "9156d0c8-7545-4305-b777-e23ea69f95c9",
   "metadata": {},
   "outputs": [],
   "source": [
    "def duckdb_amazon_func():\n",
    "    duckdb.read_csv(\"Books_rating.csv\")\n",
    "    duckdb.sql('''\n",
    "    with temp_data as (\n",
    "        SELECT\n",
    "            Title,\n",
    "            'review/score',\n",
    "            User_id,\n",
    "            row_number() over (partition by User_id order by 'review/score' desc) as rn\n",
    "        FROM 'Books_rating.csv'\n",
    "    )\n",
    "    SELECT\n",
    "        Title,\n",
    "        'review/score',\n",
    "        User_id\n",
    "    FROM temp_data\n",
    "    WHERE rn = 1\n",
    "    ''').to_csv('book_data_duckdb.csv')"
   ]
  },
  {
   "cell_type": "code",
   "execution_count": 43,
   "id": "23c8b5b8-e1e8-4859-a71c-5ca505a62b50",
   "metadata": {},
   "outputs": [
    {
     "name": "stdout",
     "output_type": "stream",
     "text": [
      "6.64 s ± 0 ns per loop (mean ± std. dev. of 1 run, 5 loops each)\n"
     ]
    }
   ],
   "source": [
    "%%timeit -n5 -r1\n",
    "duckdb_amazon_func()"
   ]
  },
  {
   "cell_type": "code",
   "execution_count": null,
   "id": "7a44345d-77a4-4f24-a514-a4d97307aca9",
   "metadata": {},
   "outputs": [],
   "source": []
  }
 ],
 "metadata": {
  "kernelspec": {
   "display_name": "Python 3 (ipykernel)",
   "language": "python",
   "name": "python3"
  },
  "language_info": {
   "codemirror_mode": {
    "name": "ipython",
    "version": 3
   },
   "file_extension": ".py",
   "mimetype": "text/x-python",
   "name": "python",
   "nbconvert_exporter": "python",
   "pygments_lexer": "ipython3",
   "version": "3.12.4"
  }
 },
 "nbformat": 4,
 "nbformat_minor": 5
}
